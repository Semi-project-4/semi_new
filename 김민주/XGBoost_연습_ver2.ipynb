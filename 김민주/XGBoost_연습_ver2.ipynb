{
  "nbformat": 4,
  "nbformat_minor": 0,
  "metadata": {
    "colab": {
      "provenance": []
    },
    "kernelspec": {
      "name": "python3",
      "display_name": "Python 3"
    },
    "language_info": {
      "name": "python"
    }
  },
  "cells": [
    {
      "cell_type": "code",
      "execution_count": 1,
      "metadata": {
        "id": "RbhdsSA3p0RB"
      },
      "outputs": [],
      "source": [
        "# import\n",
        "import pandas as pd"
      ]
    },
    {
      "cell_type": "code",
      "source": [
        "2# 데이터 불러오기\n",
        "train = pd.read_csv('/content/drive/MyDrive/colab/data/train.csv')\n",
        "test = pd.read_csv('/content/drive/MyDrive/colab/data/test.csv')"
      ],
      "metadata": {
        "id": "3OOTSrWgp9lv"
      },
      "execution_count": 2,
      "outputs": []
    },
    {
      "cell_type": "code",
      "source": [
        "# 데이터전처리 및 피쳐엔지니어링\n",
        "train = train.drop('user_id', axis=1)\n",
        "target = train.pop('target')\n",
        "test_id = test.pop('user_id')"
      ],
      "metadata": {
        "id": "FwI27tRjxTgo"
      },
      "execution_count": 3,
      "outputs": []
    },
    {
      "cell_type": "code",
      "source": [
        "print(train.shape, test.shape)"
      ],
      "metadata": {
        "id": "9S_GzeD-xgy6",
        "colab": {
          "base_uri": "https://localhost:8080/"
        },
        "outputId": "f84ff8fb-80b0-4d4d-bd9d-6ed5633c5e4e"
      },
      "execution_count": 4,
      "outputs": [
        {
          "output_type": "stream",
          "name": "stdout",
          "text": [
            "(10000, 13) (10000, 13)\n"
          ]
        }
      ]
    },
    {
      "cell_type": "code",
      "source": [
        "train = pd.get_dummies(train)\n",
        "test = pd.get_dummies(test)"
      ],
      "metadata": {
        "id": "tE86oib-BcPE"
      },
      "execution_count": 5,
      "outputs": []
    },
    {
      "cell_type": "code",
      "source": [
        "print(train.shape, test.shape)"
      ],
      "metadata": {
        "id": "P96n3DetBtNB",
        "colab": {
          "base_uri": "https://localhost:8080/"
        },
        "outputId": "2cdc56cc-2313-470d-fdea-3b0a8eb21228"
      },
      "execution_count": 6,
      "outputs": [
        {
          "output_type": "stream",
          "name": "stdout",
          "text": [
            "(10000, 16) (10000, 16)\n"
          ]
        }
      ]
    },
    {
      "cell_type": "code",
      "source": [
        "# 검증데이터분리\n",
        "from sklearn.model_selection import train_test_split\n",
        "X_tr, X_val, y_tr, y_val = train_test_split(train, target, test_size=0.02, random_state=0)"
      ],
      "metadata": {
        "id": "mz-lYFQDBzBm"
      },
      "execution_count": 7,
      "outputs": []
    },
    {
      "cell_type": "code",
      "source": [
        "# 모델링 및 평가\n",
        "from sklearn.ensemble import RandomForestClassifier\n",
        "from sklearn.metrics import f1_score\n",
        "rf = RandomForestClassifier(random_state=0)\n",
        "rf.fit(X_tr, y_tr)\n",
        "rf.fit(X_tr, y_tr)\n",
        "pred = rf.predict(X_val)"
      ],
      "metadata": {
        "id": "4V5qmQMNDaE5"
      },
      "execution_count": 8,
      "outputs": []
    },
    {
      "cell_type": "code",
      "source": [
        "print(\"f1 스코어:\", f1_score(y_val, pred, average=\"macro\"))"
      ],
      "metadata": {
        "id": "TxyUmie7D2C0",
        "colab": {
          "base_uri": "https://localhost:8080/"
        },
        "outputId": "672229bc-c76a-436b-a11c-56a99a9f768d"
      },
      "execution_count": 9,
      "outputs": [
        {
          "output_type": "stream",
          "name": "stdout",
          "text": [
            "f1 스코어: 0.47051130745430764\n"
          ]
        }
      ]
    },
    {
      "cell_type": "code",
      "source": [
        "from xgboost import XGBRFClassifier"
      ],
      "metadata": {
        "id": "1RecHl9OEMjo"
      },
      "execution_count": 10,
      "outputs": []
    },
    {
      "cell_type": "code",
      "source": [
        "xgb = XGBRFClassifier(random_state=0, max_depth=5)\n",
        "xgb.fit(X_tr, y_tr)\n",
        "pred = xgb.predict(X_val)"
      ],
      "metadata": {
        "id": "UQsupn7zoF7o"
      },
      "execution_count": 11,
      "outputs": []
    },
    {
      "cell_type": "code",
      "source": [
        "print(\"f1 스코어:\", f1_score(y_val, pred, average=\"macro\"))"
      ],
      "metadata": {
        "id": "IaI2Ulr9oKex",
        "colab": {
          "base_uri": "https://localhost:8080/"
        },
        "outputId": "993d96c1-1534-4702-d309-cd16a24b4772"
      },
      "execution_count": 12,
      "outputs": [
        {
          "output_type": "stream",
          "name": "stdout",
          "text": [
            "f1 스코어: 0.38271604938271603\n"
          ]
        }
      ]
    },
    {
      "cell_type": "code",
      "source": [
        "# 파일 생성\n",
        "pred = xgb.predict(test)\n",
        "submit = pd.DataFrame({\n",
        "    'user_id':test_id,\n",
        "    'target': pred\n",
        "})\n",
        "submit.to_csv(\"submission.csv\", index=False)"
      ],
      "metadata": {
        "id": "TTSlERHJogWJ"
      },
      "execution_count": 13,
      "outputs": []
    }
  ]
}